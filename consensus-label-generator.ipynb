{
 "cells": [
  {
   "cell_type": "code",
   "execution_count": null,
   "metadata": {},
   "outputs": [],
   "source": [
    "from videolabeler import utils as vl\n",
    "import numpy as np\n",
    "import cv2\n",
    "from tqdm.notebook import tqdm\n",
    "import pandas as pd\n",
    "import os\n",
    "import random"
   ]
  },
  {
   "cell_type": "code",
   "execution_count": null,
   "metadata": {},
   "outputs": [],
   "source": [
    "input_file = '/ariel/science/mmiller/data/imu_net/tiff_to_label/master_labels_con_test.csv'\n",
    "\n",
    "input_df = pd.read_csv(input_file, index_col=0)\n",
    "input_df.head()"
   ]
  },
  {
   "cell_type": "code",
   "execution_count": null,
   "metadata": {},
   "outputs": [],
   "source": [
    "animals = input_df.animal_id.unique()\n",
    "print(animals)\n",
    "\n",
    "#how many frames are there in each recording\n",
    "rec_dict = {i:len(input_df.loc[input_df.animal_id == i].frame.unique()) for i in animals}\n",
    "\n",
    "output_df = pd.DataFrame()\n",
    "\n",
    "print(rec_dict)"
   ]
  },
  {
   "cell_type": "markdown",
   "metadata": {},
   "source": [
    "## Preprocessing"
   ]
  },
  {
   "cell_type": "code",
   "execution_count": null,
   "metadata": {},
   "outputs": [],
   "source": [
    "#this custom aggregate function finds the first non-NA label in a column and returns it for the\n",
    "#merged row. If the same labeler labeled twice (eg after being served two consecutive batches), it takes their first label\n",
    "def label_exists(col):\n",
    "    for row in col:\n",
    "        if pd.isna(row) == False:\n",
    "            return row\n",
    "\n",
    "    return None\n",
    "\n",
    "#consolidate all overlapping frames into one row\n",
    "input_df = input_df.groupby(['frame', 'animal_id']).aggregate(label_exists).reset_index()\n",
    "input_df.sort_values(by='frame')"
   ]
  },
  {
   "cell_type": "code",
   "execution_count": null,
   "metadata": {},
   "outputs": [],
   "source": [
    "output = '/ariel/science/mmiller/data/imu_net/tiff_to_label/master_labels_V3154_merged.csv'\n",
    "\n",
    "input_df.to_csv(output)"
   ]
  },
  {
   "cell_type": "markdown",
   "metadata": {},
   "source": [
    "## Consensus generation"
   ]
  },
  {
   "cell_type": "code",
   "execution_count": null,
   "metadata": {},
   "outputs": [],
   "source": [
    "labelers = [i for i in input_df.columns if len(i) == 2]"
   ]
  },
  {
   "cell_type": "code",
   "execution_count": null,
   "metadata": {},
   "outputs": [],
   "source": [
    "output_df = pd.DataFrame()\n",
    "#for each recording\n",
    "\n",
    "for animal in ['V3-154', 'V3-163', 'DCMStr41']:\n",
    "    con_labels = []\n",
    "    labeler_ids = []\n",
    "    \n",
    "    #for each labeler, make a list of which frames have nan values so we can find the closest nan easily later\n",
    "    nan_dict = {col:input_df.loc[(input_df.animal_id == animal) & (input_df[col].isna())].frame.values for col in labelers}\n",
    "    \n",
    "    num_frames = rec_dict[animal]\n",
    "    \n",
    "    for frame in range(num_frames):\n",
    "        labels = input_df.loc[(input_df.animal_id == animal) & (input_df.frame == frame)]\n",
    "        \n",
    "        #for each frame, drop labelers who didn't label it\n",
    "        labels = labels[labelers].dropna(axis=1)\n",
    "        #print(labels['MT'].iloc[0])\n",
    "        \n",
    "        \n",
    "        #if no overlap, simply use the existing label\n",
    "        if labels.shape[1] == 1:\n",
    "            con_labels.append(labels[labels.columns[0]].iloc[0])\n",
    "            labeler_ids.append(labels.columns[0])\n",
    "            \n",
    "        #if there is overlap    \n",
    "        elif labels.shape[1] > 1:\n",
    "            labeler = None\n",
    "            \n",
    "            #The normal overlap case: for each labeler, check if they're the 1st labeler of 1st half or 2nd labeler of 2nd\n",
    "            for col in labels.columns:\n",
    "                \n",
    "                closest_nan_gap = abs(min([nan_frame - frame for nan_frame in nan_dict[col]], key=abs)) \n",
    "                \n",
    "                #gap of more than n_overlap/2 between current frame and closest nan means\n",
    "                #this labeler is either the first labeler of first half or second labeler of second half\n",
    "                if (closest_nan_gap >= 25) & (closest_nan_gap <= 50):\n",
    "                    labeler = col\n",
    "                    break\n",
    "                \n",
    "                \n",
    "            #if you didn't meet the criteria set after going through all the columns, \n",
    "            #(i.e due to total overlaps and edge cases etc), just pick the label of whoever labeled the frame before\n",
    "            #this is so we don't have chunks of low-consensus windows due to randomly interleaving labelers\n",
    "            if labeler == None and labeler_ids[-1] in labels.columns and len(labeler_ids) != 0:\n",
    "                labeler = labeler_ids[-1]\n",
    "                \n",
    "                \n",
    "            #if you fail even that (ie because it's the start of a batch), just go random. \n",
    "            #Only V3-154 should ever have to reach this    \n",
    "            elif labeler == None:\n",
    "                labeler = random.choice(labels.columns)\n",
    "                \n",
    "            \n",
    "            #finally, add your labels\n",
    "            con_labels.append(labels[labeler].iloc[0])\n",
    "            labeler_ids.append(labeler)\n",
    "                \n",
    "            \n",
    "    animal_df = pd.DataFrame({'animal_id': [animal]*num_frames, 'frame': np.arange(num_frames), \n",
    "                              'label':con_labels, 'labeler': labeler_ids})        \n",
    "    output_df = output_df.append(animal_df)"
   ]
  },
  {
   "cell_type": "code",
   "execution_count": null,
   "metadata": {},
   "outputs": [],
   "source": [
    "animal_df.head()"
   ]
  },
  {
   "cell_type": "code",
   "execution_count": null,
   "metadata": {},
   "outputs": [],
   "source": [
    "output_df.to_csv('/ariel/science/mmiller/data/imu_net/tiff_to_label/all-consensus-test.csv')"
   ]
  },
  {
   "cell_type": "markdown",
   "metadata": {},
   "source": [
    "## Spot check whatever we made"
   ]
  },
  {
   "cell_type": "code",
   "execution_count": null,
   "metadata": {},
   "outputs": [],
   "source": [
    "video_dir = '/ariel/science/mmiller/data/imu_net/tiff_to_label/V3-154/'\n",
    "labels_file = '/ariel/science/mmiller/data/imu_net/tiff_to_label/V3-154-consensus-new-method.csv'\n",
    "\n",
    "for i in range(10):\n",
    "    vl.window_and_inspect_tiff(video_dir, labels_file)"
   ]
  },
  {
   "cell_type": "code",
   "execution_count": null,
   "metadata": {},
   "outputs": [],
   "source": []
  }
 ],
 "metadata": {
  "kernelspec": {
   "display_name": "Python 3",
   "language": "python",
   "name": "python3"
  },
  "language_info": {
   "codemirror_mode": {
    "name": "ipython",
    "version": 3
   },
   "file_extension": ".py",
   "mimetype": "text/x-python",
   "name": "python",
   "nbconvert_exporter": "python",
   "pygments_lexer": "ipython3",
   "version": "3.6.7"
  }
 },
 "nbformat": 4,
 "nbformat_minor": 2
}
