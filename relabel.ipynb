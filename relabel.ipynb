{
 "cells": [
  {
   "cell_type": "code",
   "execution_count": 1,
   "metadata": {},
   "outputs": [],
   "source": [
    "from videolabeler import utils as vl\n",
    "import numpy as np\n",
    "import cv2\n",
    "from tqdm.notebook import tqdm\n",
    "import pandas as pd\n",
    "import os"
   ]
  },
  {
   "cell_type": "code",
   "execution_count": 2,
   "metadata": {},
   "outputs": [],
   "source": [
    "movie_file = '/home/mmiller/Documents/data/imuNet_data/om_20191212/Basler_acA1300-60gm__21503351__20191212_131714734.mp4'\n",
    "labels_file = '/home/mmiller/Documents/data/imuNet_data/om_20191212/label_mm_bck.csv'\n",
    "batch_size = 500"
   ]
  },
  {
   "cell_type": "code",
   "execution_count": 4,
   "metadata": {},
   "outputs": [
    {
     "name": "stdin",
     "output_type": "stream",
     "text": [
      "What frame do you want to start relabeling? [enter an integer]:  500\n"
     ]
    },
    {
     "name": "stdout",
     "output_type": "stream",
     "text": [
      " \n",
      "    Navigation\n",
      "    < : previous frame\n",
      "    > : next frame\n",
      "    Backspace : delete label\n",
      "    x : quit\n",
      "        \n",
      "Labels\n",
      "i : INTERP\n",
      "s : still\n",
      "r : rearing\n",
      "w : walking\n",
      "q : left turn\n",
      "e : right turn\n",
      "a : left turn [still]\n",
      "d : right turn [still]\n",
      "g : grooming\n",
      "m : eating\n",
      "t : explore\n",
      "l : leap\n"
     ]
    },
    {
     "data": {
      "application/vnd.jupyter.widget-view+json": {
       "model_id": "9b3bdc0495dc4e1c9fc08f8bcbdf5ffa",
       "version_major": 2,
       "version_minor": 0
      },
      "text/plain": [
       "HBox(children=(IntProgress(value=0, max=500), HTML(value='')))"
      ]
     },
     "metadata": {},
     "output_type": "display_data"
    },
    {
     "name": "stdout",
     "output_type": "stream",
     "text": [
      "\n"
     ]
    },
    {
     "name": "stdin",
     "output_type": "stream",
     "text": [
      "Save labels? [y/n]:  n\n",
      "Continue to label? \"n\" for no, \"r\" for relabel current batch, or \"c\" for continue to next batch [n/r/c]:  n\n"
     ]
    }
   ],
   "source": [
    "vl.relabelFrames(video_file=movie_file,labels_file=labels_file,batch_size=batch_size)"
   ]
  }
 ],
 "metadata": {
  "kernelspec": {
   "display_name": "Python 3",
   "language": "python",
   "name": "python3"
  },
  "language_info": {
   "codemirror_mode": {
    "name": "ipython",
    "version": 3
   },
   "file_extension": ".py",
   "mimetype": "text/x-python",
   "name": "python",
   "nbconvert_exporter": "python",
   "pygments_lexer": "ipython3",
   "version": "3.6.7"
  }
 },
 "nbformat": 4,
 "nbformat_minor": 4
}
