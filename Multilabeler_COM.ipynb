{
 "cells": [
  {
   "cell_type": "markdown",
   "metadata": {},
   "source": [
    "## Multi-user, Multi-recording Video Labeler"
   ]
  },
  {
   "cell_type": "markdown",
   "metadata": {},
   "source": [
    "multiLabelerBatchLabel is designed to allow multiple users to collaboratively label multiple recordings. Before starting, make sure all recordings are converted to a directory of frame-by-frame tiff images."
   ]
  },
  {
   "cell_type": "code",
   "execution_count": 1,
   "metadata": {},
   "outputs": [],
   "source": [
    "from videolabeler import utils as vl\n",
    "import numpy as np\n",
    "import cv2\n",
    "from tqdm.notebook import tqdm\n",
    "import pandas as pd\n",
    "import os"
   ]
  },
  {
   "cell_type": "markdown",
   "metadata": {},
   "source": [
    "Define inputs.\n",
    "\n",
    "Inputs for multilabeler, in rough order of importance are:\n",
    "\n",
    "* __root_dir__ : where all your recordings are. Each recording is assumed to have its own subdirectory, named after the animal_id\n",
    "* __animal_ids__: to indicate which recordings within the root directory you want labeled\n",
    "* __batch_size__ (default=500): maximum number of frames you want to view and label. Note that you are not allowed to save your labels until you've finished labeling a batch and closed the window.\n",
    "* __n_overlap_frames__ (default=50): number of overlapping labels for each batch. For instance, if frames 200-400 are already labeled and the user requests a batch of size 500 and overlap 50, they could be given frames 350-850 or frames 0-250, but never frames 0-200 or 400-900. It's recommended to keep a ratio of 1 overlap per 10 frames, so we can get a robust diagnosis of labeler-to-labeler agreement\n",
    "* __label_dict__: mapping of keys to labels. Provided here for easy reference. Do not adjust for this labeling session.\n",
    "* __labels_file__ (root_dir/master_labels.csv): where your labels will be saved. Highly recommend keeping it default, since it must be kept consistent for all labelers.\n",
    "* __min_gap__ (default=200): Smallest allowable gap between data. Let's say we have a 700 frame video and 300 frame batch_size with no overlap, for simplicity. With min_gap=200, videolabeler can give you frames 0-300, __300-500__ or 500-700. Must be smaller than batch_size. Highly recommend keeping above 200 for efficient labeling."
   ]
  },
  {
   "cell_type": "code",
   "execution_count": 9,
   "metadata": {},
   "outputs": [],
   "source": [
    "animal_ids = ['DCMCtx_10_20200728', 'DCMCtx_9_20200728']\n",
    "#social_animal_ids = ['OM047_0422_pref', 'OM047_0429_pref']\n",
    "\n",
    "root_dir = '/ariel/science/mmiller/data/COM_data/tiffs_to_label/'\n",
    "\n",
    "batch_size = 500\n",
    "n_overlap_frames = 50\n",
    "label_dict= {'i':'INTERP','e':'error'}\n",
    "\n",
    "#label_dict= {'i':'INTERP','s':'still','r':'rearing','w':'walking', 'q':'left turn', 'e':'right turn',\n",
    "#             'a':'left turn [still]', 'd': 'right turn [still]', 'g':'grooming','m':'eating', 't':'explore', 'l':'leap'}\n",
    "\n",
    "#social_label_dict = {'i':'INTERP','g':'grooming', 'r':'rearing on cup',\n",
    "#                     'q':'approach left side', 'e':'approach right side',\n",
    "#                     'a':'nose-to-nose', 'd':'nose-to-ag', 's':'nose-to-other',\n",
    "#                     'w':'boxing'\n",
    "#                    }"
   ]
  },
  {
   "cell_type": "markdown",
   "metadata": {},
   "source": [
    "Run videolabeler. Navigation keys will be displayed for your reference in the console.\n",
    "\n",
    "Note: exit by pressing the key x, instead of using the GUI. Otherwise, the cell hangs and you must interrupt or restart the kernel."
   ]
  },
  {
   "cell_type": "markdown",
   "metadata": {},
   "source": [
    "__Interpolation__\n",
    "\n",
    "You can put the same label on multiple frames quickly using interpolate mode. To do so, activate interpolate mode by pressing i. When interpolate mode is active, every frame after the last label will gain green borders and a gray tentative label. Some frames will have a red label in addition to a gray label, indicating previous labels you will be rewriting. Press i where you want to close this mode. Every frame from the last labeled one to the one you closed interpolate on will now have the same label.\n",
    "\n",
    "__Example usage__: Animal is walking from frames 10-50. Frame 10 is labeled as 'walking.' Press i anywhere after frame 10 to activate interpolate mode. Press i again on frame 50 to close interpolate mode there. Frames 10-50 are now labeled as 'walking,' and nothing else is touched."
   ]
  },
  {
   "cell_type": "code",
   "execution_count": 10,
   "metadata": {
    "scrolled": true
   },
   "outputs": [
    {
     "name": "stdin",
     "output_type": "stream",
     "text": [
      "Labeler name:  MM\n"
     ]
    },
    {
     "name": "stdout",
     "output_type": "stream",
     "text": [
      " \n",
      "    Navigation\n",
      "    < : previous frame\n",
      "    > : next frame\n",
      "    Backspace : delete label\n",
      "    x : quit\n",
      "        \n",
      "Labels\n",
      "i : INTERP\n",
      "e : error\n"
     ]
    },
    {
     "name": "stdin",
     "output_type": "stream",
     "text": [
      "Save labels? [y/n]:  y\n"
     ]
    },
    {
     "name": "stdout",
     "output_type": "stream",
     "text": [
      "22500 out of 24000 frames remaining (0.94 %)\n"
     ]
    },
    {
     "name": "stdin",
     "output_type": "stream",
     "text": [
      "Label next batch? [y/n]:  n\n"
     ]
    }
   ],
   "source": [
    "vl.multiLabelerBatchLabel(root_dir, animal_ids, batch_size=batch_size, n_overlap_frames=n_overlap_frames, min_gap=100, label_dict=label_dict)"
   ]
  },
  {
   "cell_type": "code",
   "execution_count": null,
   "metadata": {},
   "outputs": [],
   "source": []
  }
 ],
 "metadata": {
  "kernelspec": {
   "display_name": "Python 3",
   "language": "python",
   "name": "python3"
  },
  "language_info": {
   "codemirror_mode": {
    "name": "ipython",
    "version": 3
   },
   "file_extension": ".py",
   "mimetype": "text/x-python",
   "name": "python",
   "nbconvert_exporter": "python",
   "pygments_lexer": "ipython3",
   "version": "3.6.7"
  },
  "varInspector": {
   "cols": {
    "lenName": 16,
    "lenType": 16,
    "lenVar": 40
   },
   "kernels_config": {
    "python": {
     "delete_cmd_postfix": "",
     "delete_cmd_prefix": "del ",
     "library": "var_list.py",
     "varRefreshCmd": "print(var_dic_list())"
    },
    "r": {
     "delete_cmd_postfix": ") ",
     "delete_cmd_prefix": "rm(",
     "library": "var_list.r",
     "varRefreshCmd": "cat(var_dic_list()) "
    }
   },
   "types_to_exclude": [
    "module",
    "function",
    "builtin_function_or_method",
    "instance",
    "_Feature"
   ],
   "window_display": false
  }
 },
 "nbformat": 4,
 "nbformat_minor": 4
}
